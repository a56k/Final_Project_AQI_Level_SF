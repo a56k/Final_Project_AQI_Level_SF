{
 "cells": [
  {
   "cell_type": "code",
   "execution_count": 1,
   "metadata": {},
   "outputs": [],
   "source": [
    "#Importing packages\n",
    "import pandas as pd\n",
    "import os\n",
    "import numpy as np\n",
    "import glob"
   ]
  },
  {
   "cell_type": "code",
   "execution_count": 2,
   "metadata": {},
   "outputs": [],
   "source": [
    "#path = \"/home/user/data/\"\n",
    "path = \"/Users/mer/Desktop/ML---Final-Project---Pollution-Future-Impact-Analysis-/clean_data\"\n",
    "\n",
    "#Selecting all PM_10 CSV files\n",
    "all_files = glob.glob(os.path.join(path, \"20**_pm10.csv\"))\n",
    "\n",
    "#Sorting files by 'Date' column (asc)\n",
    "all_files.sort()\n",
    "\n",
    "#Merging 2015-2020 PM_10 files\n",
    "df_from_each_file = [pd.read_csv(f, sep=',') for f in all_files]\n",
    "df_from_each_file\n",
    "df_merged   = pd.concat(df_from_each_file)\n",
    "\n",
    "#Creating CSV file for merged PM_10 files (2015-2020)\n",
    "df_merged.to_csv(\"pm10.csv\", header = True, index = False)"
   ]
  },
  {
   "cell_type": "code",
   "execution_count": null,
   "metadata": {},
   "outputs": [],
   "source": []
  }
 ],
 "metadata": {
  "kernelspec": {
   "display_name": "Python 3",
   "language": "python",
   "name": "python3"
  },
  "language_info": {
   "codemirror_mode": {
    "name": "ipython",
    "version": 3
   },
   "file_extension": ".py",
   "mimetype": "text/x-python",
   "name": "python",
   "nbconvert_exporter": "python",
   "pygments_lexer": "ipython3",
   "version": "3.7.9"
  }
 },
 "nbformat": 4,
 "nbformat_minor": 4
}
