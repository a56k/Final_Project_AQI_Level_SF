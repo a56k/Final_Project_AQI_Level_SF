{
 "cells": [
  {
   "cell_type": "code",
   "execution_count": 2,
   "metadata": {},
   "outputs": [
    {
     "name": "stdout",
     "output_type": "stream",
     "text": [
      "Defaulting to user installation because normal site-packages is not writeable\n",
      "Collecting pandas\n",
      "  Downloading pandas-1.2.4-cp38-cp38-macosx_10_9_x86_64.whl (10.5 MB)\n",
      "\u001b[K     |████████████████████████████████| 10.5 MB 3.3 MB/s eta 0:00:01\n",
      "\u001b[?25hCollecting numpy>=1.16.5\n",
      "  Downloading numpy-1.20.2-cp38-cp38-macosx_10_9_x86_64.whl (16.0 MB)\n",
      "\u001b[K     |████████████████████████████████| 16.0 MB 21.1 MB/s eta 0:00:01    |██████████                      | 5.0 MB 21.1 MB/s eta 0:00:01\n",
      "\u001b[?25hRequirement already satisfied: pytz>=2017.3 in /Users/selenajdeleon/Library/Python/3.8/lib/python/site-packages (from pandas) (2021.1)\n",
      "Requirement already satisfied: python-dateutil>=2.7.3 in /Users/selenajdeleon/Library/Python/3.8/lib/python/site-packages (from pandas) (2.8.1)\n",
      "Requirement already satisfied: six>=1.5 in /Library/Developer/CommandLineTools/Library/Frameworks/Python3.framework/Versions/3.8/lib/python3.8/site-packages (from python-dateutil>=2.7.3->pandas) (1.15.0)\n",
      "Installing collected packages: numpy, pandas\n",
      "Successfully installed numpy-1.20.2 pandas-1.2.4\n"
     ]
    }
   ],
   "source": [
    "#Importing packages\n",
    "!pip install pandas\n",
    "import pandas as pd\n",
    "import os\n",
    "import numpy as np\n",
    "import glob"
   ]
  },
  {
   "cell_type": "code",
   "execution_count": 20,
   "metadata": {},
   "outputs": [],
   "source": [
    "#path = \"/home/user/data/\"\n",
    "path = \"/Users/selenajdeleon/Desktop/Analysis_Projects/Final_Project/ML---Final-Project---Pollution-Future-Impact-Analysis-/clean_data\"\n",
    "all_files = glob.glob(os.path.join(path, \"20**_co.csv\"))\n",
    "all_files.sort()\n",
    "#print(all_files)\n",
    "df_from_each_file = [pd.read_csv(f, sep=',') for f in all_files]\n",
    "df_from_each_file\n",
    "\n",
    "'''\n",
    "for file in all_files:\n",
    "    df = pd.read_csv(f, sep = ',', ignore_index = True)\n",
    "    df_merge = \n",
    "'''\n",
    "\n",
    "df_merged   = pd.concat(df_from_each_file)\n",
    "df_merged.to_csv( \"co.csv\", header = True, index = False)"
   ]
  },
  {
   "cell_type": "code",
   "execution_count": null,
   "metadata": {},
   "outputs": [],
   "source": []
  }
 ],
 "metadata": {
  "kernelspec": {
   "display_name": "Python 3",
   "language": "python",
   "name": "python3"
  },
  "language_info": {
   "codemirror_mode": {
    "name": "ipython",
    "version": 3
   },
   "file_extension": ".py",
   "mimetype": "text/x-python",
   "name": "python",
   "nbconvert_exporter": "python",
   "pygments_lexer": "ipython3",
   "version": "3.8.2"
  }
 },
 "nbformat": 4,
 "nbformat_minor": 4
}
